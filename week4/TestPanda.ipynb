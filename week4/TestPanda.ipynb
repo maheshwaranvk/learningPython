{
 "cells": [
  {
   "cell_type": "code",
   "execution_count": null,
   "id": "a07bf985",
   "metadata": {},
   "outputs": [],
   "source": [
    "import os\n",
    "import random\n",
    "import string\n",
    "\n",
    "def create_random_files(directory, num_files=5, file_size=1024):\n",
    "    os.makedirs(directory, exist_ok=True)\n",
    "    for i in range(num_files):\n",
    "        filename = f\"random_file_{i}.txt\"\n",
    "        filepath = os.path.join(directory, filename)\n",
    "        with open(filepath, \"w\") as f:\n",
    "            content = ''.join(random.choices(string.ascii_letters + string.digits, k=file_size))\n",
    "            f.write(content)\n",
    "\n",
    "# Example usage:\n",
    "create_random_files(\"random_files\", num_files=5, file_size=1024)"
   ]
  }
 ],
 "metadata": {
  "kernelspec": {
   "display_name": ".venv",
   "language": "python",
   "name": "python3"
  },
  "language_info": {
   "codemirror_mode": {
    "name": "ipython",
    "version": 3
   },
   "file_extension": ".py",
   "mimetype": "text/x-python",
   "name": "python",
   "nbconvert_exporter": "python",
   "pygments_lexer": "ipython3",
   "version": "3.13.7"
  }
 },
 "nbformat": 4,
 "nbformat_minor": 5
}
